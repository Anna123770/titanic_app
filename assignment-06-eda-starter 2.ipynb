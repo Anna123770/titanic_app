{
 "cells": [
  {
   "cell_type": "markdown",
   "metadata": {},
   "source": [
    "# EDA\n",
    "\n",
    "EDA (Exploratory Data Analysis) using Pandas and Matplotlib (3.5.1 or above)."
   ]
  },
  {
   "cell_type": "code",
   "execution_count": 1,
   "metadata": {},
   "outputs": [],
   "source": [
    "# read the titanic train.csv file into a dataframe\n",
    "import pandas as pd\n",
    "df=pd.read_csv('train.csv')"
   ]
  },
  {
   "cell_type": "code",
   "execution_count": 3,
   "metadata": {},
   "outputs": [
    {
     "name": "stdout",
     "output_type": "stream",
     "text": [
      "percentage of diffrent ports are:\n",
      "Cherbourg(C):18.90%\n",
      "Queenstown(Q):8.66%\n",
      "Southampton(S):72.44%\n"
     ]
    }
   ],
   "source": [
    "# show the percentage of the passengers that boarded at different ports\n",
    "c=(df.Embarked.value_counts()['C']/df.Embarked.value_counts().sum())*100\n",
    "q=(df.Embarked.value_counts()['Q']/df.Embarked.value_counts().sum())*100\n",
    "s=(df.Embarked.value_counts()['S']/df.Embarked.value_counts().sum())*100\n",
    "print('percentage of diffrent ports are:')\n",
    "print(f'Cherbourg(C):{c:.2f}%')\n",
    "print(f'Queenstown(Q):{q:.2f}%')\n",
    "print(f'Southampton(S):{s:.2f}%')"
   ]
  },
  {
   "cell_type": "code",
   "execution_count": 4,
   "metadata": {},
   "outputs": [
    {
     "data": {
      "text/plain": [
       "<AxesSubplot:>"
      ]
     },
     "execution_count": 4,
     "metadata": {},
     "output_type": "execute_result"
    },
    {
     "data": {
      "image/png": "[encoded data removed]",
      "text/plain": [
       "<Figure size 800x550 with 1 Axes>"
      ]
     },
     "metadata": {},
     "output_type": "display_data"
    }
   ],
   "source": [
    "# use seaborn style and pandas plotting to show a histogram of the Embarked column\n",
    "# a sample diagram is shown below\n",
    "import matplotlib.pyplot as plt\n",
    "plt.style.use('seaborn')\n",
    "df.Embarked.hist()"
   ]
  },
  {
   "cell_type": "markdown",
   "metadata": {},
   "source": [
    "![output](https://user-images.githubusercontent.com/595772/158029846-286dca93-ac7d-4edd-bd0e-da3b46906905.png)"
   ]
  },
  {
   "cell_type": "code",
   "execution_count": 6,
   "metadata": {},
   "outputs": [
    {
     "name": "stdout",
     "output_type": "stream",
     "text": [
      "survival rates by gender:\n",
      "female:35.24%\n",
      "male:64.76%\n"
     ]
    }
   ],
   "source": [
    "# show the survival rates by gender\n",
    "# hint: get all survivors, then count how many female and male, etc.\n",
    "df[df['Survived']==1]\n",
    "female=(df.Sex.value_counts()['female']/df.Sex.value_counts().sum())*100\n",
    "male=(df.Sex.value_counts()['male']/df.Sex.value_counts().sum())*100\n",
    "print('survival rates by gender:')\n",
    "print(f'female:{female:.2f}%')\n",
    "print(f'male:{male:.2f}%')"
   ]
  },
  {
   "cell_type": "code",
   "execution_count": 16,
   "metadata": {},
   "outputs": [
    {
     "data": {
      "text/html": [
       "<div>\n",
       "<style scoped>\n",
       "    .dataframe tbody tr th:only-of-type {\n",
       "        vertical-align: middle;\n",
       "    }\n",
       "\n",
       "    .dataframe tbody tr th {\n",
       "        vertical-align: top;\n",
       "    }\n",
       "\n",
       "    .dataframe thead th {\n",
       "        text-align: right;\n",
       "    }\n",
       "</style>\n",
       "<table border=\"1\" class=\"dataframe\">\n",
       "  <thead>\n",
       "    <tr style=\"text-align: right;\">\n",
       "      <th></th>\n",
       "      <th>PassengerId</th>\n",
       "      <th>Survived</th>\n",
       "      <th>Pclass</th>\n",
       "      <th>Name</th>\n",
       "      <th>Sex</th>\n",
       "      <th>Age</th>\n",
       "      <th>SibSp</th>\n",
       "      <th>Parch</th>\n",
       "      <th>Ticket</th>\n",
       "      <th>Fare</th>\n",
       "      <th>Cabin</th>\n",
       "      <th>Embarked</th>\n",
       "    </tr>\n",
       "  </thead>\n",
       "  <tbody>\n",
       "    <tr>\n",
       "      <th>0</th>\n",
       "      <td>259</td>\n",
       "      <td>1</td>\n",
       "      <td>1</td>\n",
       "      <td>Ward, Miss. Anna</td>\n",
       "      <td>female</td>\n",
       "      <td>35.0</td>\n",
       "      <td>0</td>\n",
       "      <td>0</td>\n",
       "      <td>PC 17755</td>\n",
       "      <td>512.3292</td>\n",
       "      <td>NaN</td>\n",
       "      <td>C</td>\n",
       "    </tr>\n",
       "    <tr>\n",
       "      <th>1</th>\n",
       "      <td>738</td>\n",
       "      <td>1</td>\n",
       "      <td>1</td>\n",
       "      <td>Lesurer, Mr. Gustave J</td>\n",
       "      <td>male</td>\n",
       "      <td>35.0</td>\n",
       "      <td>0</td>\n",
       "      <td>0</td>\n",
       "      <td>PC 17755</td>\n",
       "      <td>512.3292</td>\n",
       "      <td>B101</td>\n",
       "      <td>C</td>\n",
       "    </tr>\n",
       "    <tr>\n",
       "      <th>2</th>\n",
       "      <td>680</td>\n",
       "      <td>1</td>\n",
       "      <td>1</td>\n",
       "      <td>Cardeza, Mr. Thomas Drake Martinez</td>\n",
       "      <td>male</td>\n",
       "      <td>36.0</td>\n",
       "      <td>0</td>\n",
       "      <td>1</td>\n",
       "      <td>PC 17755</td>\n",
       "      <td>512.3292</td>\n",
       "      <td>B51 B53 B55</td>\n",
       "      <td>C</td>\n",
       "    </tr>\n",
       "    <tr>\n",
       "      <th>3</th>\n",
       "      <td>89</td>\n",
       "      <td>1</td>\n",
       "      <td>1</td>\n",
       "      <td>Fortune, Miss. Mabel Helen</td>\n",
       "      <td>female</td>\n",
       "      <td>23.0</td>\n",
       "      <td>3</td>\n",
       "      <td>2</td>\n",
       "      <td>19950</td>\n",
       "      <td>263.0000</td>\n",
       "      <td>C23 C25 C27</td>\n",
       "      <td>S</td>\n",
       "    </tr>\n",
       "    <tr>\n",
       "      <th>4</th>\n",
       "      <td>28</td>\n",
       "      <td>0</td>\n",
       "      <td>1</td>\n",
       "      <td>Fortune, Mr. Charles Alexander</td>\n",
       "      <td>male</td>\n",
       "      <td>19.0</td>\n",
       "      <td>3</td>\n",
       "      <td>2</td>\n",
       "      <td>19950</td>\n",
       "      <td>263.0000</td>\n",
       "      <td>C23 C25 C27</td>\n",
       "      <td>S</td>\n",
       "    </tr>\n",
       "  </tbody>\n",
       "</table>\n",
       "</div>"
      ],
      "text/plain": [
       "   PassengerId  Survived  Pclass                                Name     Sex  \\\n",
       "0          259         1       1                    Ward, Miss. Anna  female   \n",
       "1          738         1       1              Lesurer, Mr. Gustave J    male   \n",
       "2          680         1       1  Cardeza, Mr. Thomas Drake Martinez    male   \n",
       "3           89         1       1          Fortune, Miss. Mabel Helen  female   \n",
       "4           28         0       1      Fortune, Mr. Charles Alexander    male   \n",
       "\n",
       "    Age  SibSp  Parch    Ticket      Fare        Cabin Embarked  \n",
       "0  35.0      0      0  PC 17755  512.3292          NaN        C  \n",
       "1  35.0      0      0  PC 17755  512.3292         B101        C  \n",
       "2  36.0      0      1  PC 17755  512.3292  B51 B53 B55        C  \n",
       "3  23.0      3      2     19950  263.0000  C23 C25 C27        S  \n",
       "4  19.0      3      2     19950  263.0000  C23 C25 C27        S  "
      ]
     },
     "execution_count": 16,
     "metadata": {},
     "output_type": "execute_result"
    }
   ],
   "source": [
    "# show a line chart of the ticket price, sorted in descending order\n",
    "# a sample diagram is shown below\n",
    "df_sorted_fare=df.sort_values(by='Fare',ascending=False,ignore_index=True)\n",
    "df_sorted_fare.head()"
   ]
  },
  {
   "cell_type": "code",
   "execution_count": 17,
   "metadata": {},
   "outputs": [
    {
     "data": {
      "text/plain": [
       "Text(0, 0.5, 'ticket price')"
      ]
     },
     "execution_count": 17,
     "metadata": {},
     "output_type": "execute_result"
    },
    {
     "data": {
      "image/png": "[encoded data removed]",
      "text/plain": [
       "<Figure size 800x550 with 1 Axes>"
      ]
     },
     "metadata": {},
     "output_type": "display_data"
    }
   ],
   "source": [
    "df_sorted_fare.Fare.plot().set_ylabel('ticket price')"
   ]
  },
  {
   "cell_type": "markdown",
   "metadata": {},
   "source": [
    "\n",
    "![output](https://user-images.githubusercontent.com/595772/158029862-809dcf1a-76be-492e-9594-e30780b4e88d.png)\n",
    "\n"
   ]
  },
  {
   "cell_type": "code",
   "execution_count": 21,
   "metadata": {},
   "outputs": [
    {
     "data": {
      "text/plain": [
       "Text(0.5, 0, 'Pclass=3')"
      ]
     },
     "execution_count": 21,
     "metadata": {},
     "output_type": "execute_result"
    },
    {
     "data": {
      "image/png": "[encoded data removed]",
      "text/plain": [
       "<Figure size 1500x500 with 3 Axes>"
      ]
     },
     "metadata": {},
     "output_type": "display_data"
    }
   ],
   "source": [
    "# create a figure with three subplots, size should be (15, 5)\n",
    "# show the box plot for ticket price with different classes\n",
    "# you need to set the x labels and y labels\n",
    "# a sample diagram is shown below\n",
    "fig,ax=plt.subplots(1,3,figsize=(15,5))\n",
    "df[df['Pclass']==1].Fare.plot.box(ax=ax[0])\n",
    "ax[0].set_ylabel('Fare')\n",
    "ax[0].set_xlabel('Pclass=1')\n",
    "df[df['Pclass']==2].Fare.plot.box(ax=ax[1])\n",
    "ax[1].set_xlabel('Pclass=2')\n",
    "df[df['Pclass']==3].Fare.plot.box(ax=ax[2])\n",
    "ax[2].set_xlabel('Pclass=3')"
   ]
  },
  {
   "cell_type": "markdown",
   "metadata": {},
   "source": [
    "![output](https://user-images.githubusercontent.com/595772/158030013-2796b628-5f44-4b09-bed4-c4ab2feb8f3a.png)\n"
   ]
  },
  {
   "cell_type": "code",
   "execution_count": 37,
   "metadata": {},
   "outputs": [
    {
     "name": "stdout",
     "output_type": "stream",
     "text": [
      "Pclass\n",
      "1    216\n",
      "2    184\n",
      "3    491\n",
      "dtype: int64\n",
      "------------------------------\n",
      "group 1\n",
      "survived:\n",
      "1    136\n",
      "0     80\n",
      "Name: Survived, dtype: int64\n",
      "------------------------------\n",
      "group 2\n",
      "survived:\n",
      "0    97\n",
      "1    87\n",
      "Name: Survived, dtype: int64\n",
      "------------------------------\n",
      "group 3\n",
      "survived:\n",
      "0    372\n",
      "1    119\n",
      "Name: Survived, dtype: int64\n"
     ]
    }
   ],
   "source": [
    "# for people with different ticket class, which ticket class group has the highest survival rate?\n",
    "# for example, you should show: for people with ticket class ?, the survival rate is the highest, which is ?\n",
    "# hint: you need groupby first and then use some aggregation function\n",
    "df_sorted_class=df.groupby('Pclass')\n",
    "print(df_sorted_class.size())\n",
    "from itertools import groupby\n",
    "for group,groupby in df_sorted_class:\n",
    "    print('-'*30)\n",
    "    print(f'group {group}')\n",
    "    print('survived:')\n",
    "    print(groupby.Survived.value_counts())\n"
   ]
  },
  {
   "cell_type": "code",
   "execution_count": 40,
   "metadata": {},
   "outputs": [
    {
     "name": "stdout",
     "output_type": "stream",
     "text": [
      "survival rate \n",
      "class 1: 62.96%\n",
      "class 2: 47.28%\n",
      "class 3: 27.61%\n",
      "for people with ticket class 1 , the survival rate is the highest, which is 62.96%\n"
     ]
    }
   ],
   "source": [
    "print(f'survival rate \\nclass 1: {(136/216)*100:.2f}%\\nclass 2: {(87/184)*100:.2f}%\\nclass 3: {(119/431)*100:.2f}%')\n",
    "print(f'for people with ticket class 1 , the survival rate is the highest, which is {(136/216)*100:.2f}%')"
   ]
  },
  {
   "cell_type": "code",
   "execution_count": 46,
   "metadata": {},
   "outputs": [
    {
     "data": {
      "text/html": [
       "<div>\n",
       "<style scoped>\n",
       "    .dataframe tbody tr th:only-of-type {\n",
       "        vertical-align: middle;\n",
       "    }\n",
       "\n",
       "    .dataframe tbody tr th {\n",
       "        vertical-align: top;\n",
       "    }\n",
       "\n",
       "    .dataframe thead th {\n",
       "        text-align: right;\n",
       "    }\n",
       "</style>\n",
       "<table border=\"1\" class=\"dataframe\">\n",
       "  <thead>\n",
       "    <tr style=\"text-align: right;\">\n",
       "      <th></th>\n",
       "      <th>Pclass</th>\n",
       "      <th>survived</th>\n",
       "    </tr>\n",
       "  </thead>\n",
       "  <tbody>\n",
       "    <tr>\n",
       "      <th>0</th>\n",
       "      <td>(1, 1)</td>\n",
       "      <td>0.6296</td>\n",
       "    </tr>\n",
       "    <tr>\n",
       "      <th>1</th>\n",
       "      <td>(1, 0)</td>\n",
       "      <td>0.3704</td>\n",
       "    </tr>\n",
       "    <tr>\n",
       "      <th>2</th>\n",
       "      <td>(2, 0)</td>\n",
       "      <td>0.5272</td>\n",
       "    </tr>\n",
       "    <tr>\n",
       "      <th>3</th>\n",
       "      <td>(2, 1)</td>\n",
       "      <td>0.4728</td>\n",
       "    </tr>\n",
       "    <tr>\n",
       "      <th>4</th>\n",
       "      <td>(3, 0)</td>\n",
       "      <td>0.7239</td>\n",
       "    </tr>\n",
       "    <tr>\n",
       "      <th>5</th>\n",
       "      <td>(3, 1)</td>\n",
       "      <td>0.2761</td>\n",
       "    </tr>\n",
       "  </tbody>\n",
       "</table>\n",
       "</div>"
      ],
      "text/plain": [
       "   Pclass  survived\n",
       "0  (1, 1)    0.6296\n",
       "1  (1, 0)    0.3704\n",
       "2  (2, 0)    0.5272\n",
       "3  (2, 1)    0.4728\n",
       "4  (3, 0)    0.7239\n",
       "5  (3, 1)    0.2761"
      ]
     },
     "execution_count": 46,
     "metadata": {},
     "output_type": "execute_result"
    }
   ],
   "source": [
    "# create a bar plot based on the previous question to show different survival rate by different ticket class\n",
    "# a sample diagram is shown below\n",
    "Pclass_survived={'Pclass':[(1,1),(1,0),(2,0),(2,1),(3,0),(3,1)],'survived':[0.6296,0.3704,0.5272,0.4728,0.7239,0.2761]}\n",
    "df_Pclass_survived=pd.DataFrame(Pclass_survived)\n",
    "df_Pclass_survived"
   ]
  },
  {
   "cell_type": "code",
   "execution_count": 57,
   "metadata": {},
   "outputs": [
    {
     "data": {
      "text/plain": [
       "Text(0.5, 0, 'Pclass,Survived')"
      ]
     },
     "execution_count": 57,
     "metadata": {},
     "output_type": "execute_result"
    },
    {
     "data": {
      "image/png": "[encoded data removed]",
      "text/plain": [
       "<Figure size 600x400 with 1 Axes>"
      ]
     },
     "metadata": {},
     "output_type": "display_data"
    }
   ],
   "source": [
    "fig,ax=plt.subplots(figsize=(6,4))\n",
    "df_Pclass_survived.plot.bar(ax=ax).set_xticks(df_Pclass_survived.index,df_Pclass_survived.Pclass,rotation=90)\n",
    "ax.set_xlabel('Pclass,Survived')"
   ]
  },
  {
   "cell_type": "markdown",
   "metadata": {},
   "source": [
    "![output](https://user-images.githubusercontent.com/595772/158030040-263e699c-04c4-4c29-9bbe-730ee944b5f2.png)\n"
   ]
  }
 ],
 "metadata": {
  "kernelspec": {
   "display_name": "Python 3.9.13 ('ds')",
   "language": "python",
   "name": "python3"
  },
  "language_info": {
   "codemirror_mode": {
    "name": "ipython",
    "version": 3
   },
   "file_extension": ".py",
   "mimetype": "text/x-python",
   "name": "python",
   "nbconvert_exporter": "python",
   "pygments_lexer": "ipython3",
   "version": "3.9.13"
  },
  "orig_nbformat": 4,
  "vscode": {
   "interpreter": {
    "hash": "64bb1d05508a307d8025540a7245727bf937beb0fea8e1bca88f41cd3da9939f"
   }
  }
 },
 "nbformat": 4,
 "nbformat_minor": 2
}
